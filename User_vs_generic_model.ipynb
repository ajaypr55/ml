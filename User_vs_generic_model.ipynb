{
  "nbformat": 4,
  "nbformat_minor": 0,
  "metadata": {
    "colab": {
      "name": "User vs generic model.ipynb",
      "version": "0.3.2",
      "provenance": [],
      "collapsed_sections": [],
      "include_colab_link": true
    },
    "kernelspec": {
      "name": "python3",
      "display_name": "Python 3"
    }
  },
  "cells": [
    {
      "cell_type": "markdown",
      "metadata": {
        "id": "view-in-github",
        "colab_type": "text"
      },
      "source": [
        "<a href=\"https://colab.research.google.com/github/ajaypr55/ml/blob/master/User_vs_generic_model.ipynb\" target=\"_parent\"><img src=\"https://colab.research.google.com/assets/colab-badge.svg\" alt=\"Open In Colab\"/></a>"
      ]
    },
    {
      "cell_type": "code",
      "metadata": {
        "id": "iaDadd1_VLgb",
        "colab_type": "code",
        "colab": {
          "base_uri": "https://localhost:8080/",
          "height": 122
        },
        "outputId": "14c8bbe2-503d-440f-eec2-e698a43bae67"
      },
      "source": [
        "from google.colab import drive\n",
        "drive.mount('/content/gdrive')"
      ],
      "execution_count": 1,
      "outputs": [
        {
          "output_type": "stream",
          "text": [
            "Go to this URL in a browser: https://accounts.google.com/o/oauth2/auth?client_id=947318989803-6bn6qk8qdgf4n4g3pfee6491hc0brc4i.apps.googleusercontent.com&redirect_uri=urn%3Aietf%3Awg%3Aoauth%3A2.0%3Aoob&scope=email%20https%3A%2F%2Fwww.googleapis.com%2Fauth%2Fdocs.test%20https%3A%2F%2Fwww.googleapis.com%2Fauth%2Fdrive%20https%3A%2F%2Fwww.googleapis.com%2Fauth%2Fdrive.photos.readonly%20https%3A%2F%2Fwww.googleapis.com%2Fauth%2Fpeopleapi.readonly&response_type=code\n",
            "\n",
            "Enter your authorization code:\n",
            "··········\n",
            "Mounted at /content/gdrive\n"
          ],
          "name": "stdout"
        }
      ]
    },
    {
      "cell_type": "code",
      "metadata": {
        "id": "CQr1PJxhWcbn",
        "colab_type": "code",
        "outputId": "038689ce-6039-4fea-8747-b320e0872036",
        "colab": {
          "base_uri": "https://localhost:8080/",
          "height": 2057
        }
      },
      "source": [
        "!ls /content/gdrive/'My Drive'/"
      ],
      "execution_count": 2,
      "outputs": [
        {
          "output_type": "stream",
          "text": [
            " 2015Q3_OKR_EZ191_AJAY_PRAKASH.gsheet\n",
            " 2017\n",
            "'20th September Target.gdoc'\n",
            " Ajay_Aadhaar.pdf\n",
            "'ajay documents'\n",
            "'Ajay Prakash 0 Salary With Appraisal.pdf'\n",
            "'AJAY PRAKASH2 copy.docx'\n",
            "'AJAY PRAKASH2 copy.gdoc'\n",
            "'Ajay Prakash.docx'\n",
            "'Ajay Prakash.gdoc'\n",
            "'AJAY  PRAKASH.gdoc'\n",
            "'Ajay Prakash.pdf'\n",
            "'Ajay Prakash - Resume (1).docx'\n",
            "'Ajay Prakash - Resume (1).docx.gdoc'\n",
            "'Ajay Prakash - Resume (2).docx'\n",
            "'Ajay Prakash - Resume (2).docx.gdoc'\n",
            "'Ajay Prakash - Resume (3).docx'\n",
            "'Ajay Prakash - Resume.docx'\n",
            "'Ajay Prakash - Resume.docx.gdoc'\n",
            "'AJAY PRAKASH Resume.gdoc'\n",
            "'Algorithm part 1 AP and AJ'\n",
            "'Algorithm Part 1 Coursera'\n",
            " all_data.csv\n",
            " all_data.gsheet\n",
            "\"Ann's Suggestion.gdoc\"\n",
            "'APL_Ajay Prakash .gdoc'\n",
            "'APL_Ajay Prakash .pdf'\n",
            "'Appointment Reciept.pdf'\n",
            " April.pdf\n",
            " August.pdf\n",
            "'BACKGROUND CHECK CANDIDATE INFORMATION (1).DOC'\n",
            "'BACKGROUND CHECK CANDIDATE INFORMATION (1).DOC.gdoc'\n",
            " backup\n",
            "'books and solution'\n",
            "'Cartrail data sheet - B.Tech (YMCA UST) 27.11.18 (1).gsheet'\n",
            "'Cartrail data sheet - B.Tech (YMCA UST) 27.11.18.gsheet'\n",
            "'Cartrail data sheet - B.Tech (YMCA UST) 27.11.18.xlsx'\n",
            "'Cartrail data sheet - MCA (YMCA UST) 27.11.18 (1).gsheet'\n",
            "'Cartrail data sheet - MCA (YMCA UST) 27.11.18 (2).gsheet'\n",
            "'Cartrail data sheet - MCA (YMCA UST) 27.11.18.gsheet'\n",
            "'Cartrail data sheet - MCA (YMCA UST) 27.11.18.xlsx'\n",
            " Check_bills_project\n",
            " code\n",
            "'Colab Notebooks'\n",
            "'Cold play data.gsheet'\n",
            "'Copy of Bay Area Deep Learning School Presentation.gslides'\n",
            " creative.gslides\n",
            "'Cultural Fit.gdoc'\n",
            " defaults2.json\n",
            " democ\n",
            "'Discrete Mathamatics'\n",
            " documents_2018\n",
            "'ds_data_big.zip (Unzipped Files)'\n",
            " family_photis\n",
            "'flat '\n",
            " foo.txt\n",
            " github\n",
            "'github (1)'\n",
            " iit\n",
            " IMG-20180117-WA0003.jpg\n",
            " IMG-20180117-WA0008.jpg\n",
            " IMG-20180117-WA0009.jpg\n",
            " IMG-20180117-WA0011.jpg\n",
            " IMG-20180117-WA0012.jpg\n",
            " IMG-20180117-WA0013.jpg\n",
            " IMG-20180117-WA0014.jpg\n",
            " IMG-20180118-WA0001.jpg\n",
            " IMG_4929.jpg\n",
            " Interview\n",
            "'interview materials link.gdoc'\n",
            "'JD_Housing.com_Backend Engineer.gdoc'\n",
            "'JD_Java Platform Engineer_Quad Analytix.gdoc'\n",
            "'JD_Software Developer_TravelTraingle.pdf'\n",
            "'K0188 Ajay Prakash1 Salary with Appraisal.pdf'\n",
            " kaggle\n",
            "'kishore kumar songs.gsheet'\n",
            " March.pdf\n",
            "'mediaIq shared projects'\n",
            "'mediaIq shared projects (1)'\n",
            " Ml\n",
            " ml_andrew.pdf\n",
            "'monika singh.docx'\n",
            "'monika singh.gdoc'\n",
            "'new doc 2017-12-26 15.17.10-20171226151744.pdf'\n",
            " october_data_old.csv\n",
            " Offer.pdf\n",
            "'olx_data_sample (1).zip (Unzipped Files)'\n",
            "'OO Design.gdoc'\n",
            " Order_Data.csv\n",
            "'Our photos'\n",
            "'Payments due.jpg'\n",
            " private\n",
            "'Project proposal.gdoc'\n",
            "'Quadrical Ai Engine Design Documents.gdoc'\n",
            "'Quadrical Design Flow.gslides'\n",
            "'Rakuten Institute of Technology (Singapore) - Engineering Position - Pre-interview Test.gdoc'\n",
            " resume\n",
            " rukaten_pre_interview_solution.gdoc\n",
            " sep_data.csv\n",
            " Sharvani-2015.docx\n",
            " shopclue_embed_prod_v1-test1.0.0.json\n",
            " shopclue_trails\n",
            " Spark\n",
            " Statistical_learning\n",
            " suny\n",
            "'suny marriage '\n",
            "'System Design Interview Preparation.gdoc'\n",
            "'Target 3rd September.txt'\n",
            " til_work\n",
            "'TL_MIS  Performance Transparency.doc'\n",
            " UCSDUnfoldingMaps.zip\n",
            "'Untitled document.gdoc'\n",
            "'Untitled spreadsheet (1).gsheet'\n",
            "'Untitled spreadsheet (2).gsheet'\n",
            "'Untitled spreadsheet (3).gsheet'\n",
            "'Untitled spreadsheet (4).gsheet'\n",
            "'Untitled spreadsheet (5).gsheet'\n",
            "'Untitled spreadsheet.gsheet'\n",
            " user_filtered_model_comparison\n",
            " Weeeee\n"
          ],
          "name": "stdout"
        }
      ]
    },
    {
      "cell_type": "code",
      "metadata": {
        "id": "Fc_PGLEkaWJ8",
        "colab_type": "code",
        "colab": {
          "base_uri": "https://localhost:8080/",
          "height": 207
        },
        "outputId": "5e4eaf36-1c5d-4766-d7e9-3dd4c82452cb"
      },
      "source": [
        "!pip install catboost==0.8.1.1 "
      ],
      "execution_count": 4,
      "outputs": [
        {
          "output_type": "stream",
          "text": [
            "Collecting catboost==0.8.1.1\n",
            "\u001b[?25l  Downloading https://files.pythonhosted.org/packages/fe/d8/f6f85439209e70a5459b9f2c1b7a235dd970cb8ac6f304a5a39bd76bff90/catboost-0.8.1.1-cp36-none-manylinux1_x86_64.whl (33.6MB)\n",
            "\u001b[K     |████████████████████████████████| 33.6MB 26.3MB/s \n",
            "\u001b[?25hRequirement already satisfied: pandas in /usr/local/lib/python3.6/dist-packages (from catboost==0.8.1.1) (0.24.2)\n",
            "Requirement already satisfied: six in /usr/local/lib/python3.6/dist-packages (from catboost==0.8.1.1) (1.12.0)\n",
            "Requirement already satisfied: numpy in /usr/local/lib/python3.6/dist-packages (from catboost==0.8.1.1) (1.16.3)\n",
            "Requirement already satisfied: python-dateutil>=2.5.0 in /usr/local/lib/python3.6/dist-packages (from pandas->catboost==0.8.1.1) (2.5.3)\n",
            "Requirement already satisfied: pytz>=2011k in /usr/local/lib/python3.6/dist-packages (from pandas->catboost==0.8.1.1) (2018.9)\n",
            "Installing collected packages: catboost\n",
            "Successfully installed catboost-0.8.1.1\n"
          ],
          "name": "stdout"
        }
      ]
    },
    {
      "cell_type": "code",
      "metadata": {
        "id": "-MI4pvl6HTnX",
        "colab_type": "code",
        "colab": {}
      },
      "source": [
        "import time\n",
        "\n",
        "import numpy as np\n",
        "import tensorflow as tf\n",
        "import pandas as pd\n",
        "\n",
        "import numpy as np\n",
        "import matplotlib.pyplot as plt\n",
        "import pickle"
      ],
      "execution_count": 0,
      "outputs": []
    },
    {
      "cell_type": "code",
      "metadata": {
        "id": "oJPptotBXQY4",
        "colab_type": "code",
        "colab": {}
      },
      "source": [
        "df_train = pd.read_csv(\"/content/gdrive/My Drive/user_filtered_model_comparison/user_filtered_data.csv\")"
      ],
      "execution_count": 0,
      "outputs": []
    },
    {
      "cell_type": "code",
      "metadata": {
        "id": "dIn34KelZIPw",
        "colab_type": "code",
        "outputId": "dbe7e7a2-4ae5-4f13-e9cd-bdcda628cf2e",
        "colab": {
          "base_uri": "https://localhost:8080/",
          "height": 462
        }
      },
      "source": [
        "df_train.head()"
      ],
      "execution_count": 7,
      "outputs": [
        {
          "output_type": "execute_result",
          "data": {
            "text/html": [
              "<div>\n",
              "<style scoped>\n",
              "    .dataframe tbody tr th:only-of-type {\n",
              "        vertical-align: middle;\n",
              "    }\n",
              "\n",
              "    .dataframe tbody tr th {\n",
              "        vertical-align: top;\n",
              "    }\n",
              "\n",
              "    .dataframe thead th {\n",
              "        text-align: right;\n",
              "    }\n",
              "</style>\n",
              "<table border=\"1\" class=\"dataframe\">\n",
              "  <thead>\n",
              "    <tr style=\"text-align: right;\">\n",
              "      <th></th>\n",
              "      <th>Unnamed: 0</th>\n",
              "      <th>COD_Cost</th>\n",
              "      <th>Collectable_Amount</th>\n",
              "      <th>Courier_Cost</th>\n",
              "      <th>Courier_NDR_Status</th>\n",
              "      <th>Courier_Name</th>\n",
              "      <th>Customer_City</th>\n",
              "      <th>Customer_Pincode</th>\n",
              "      <th>Customer_Zone</th>\n",
              "      <th>Customer_Zone.1</th>\n",
              "      <th>Delivery_Ageing</th>\n",
              "      <th>Delivery_Date</th>\n",
              "      <th>EDD</th>\n",
              "      <th>Final_Status</th>\n",
              "      <th>First_Attempt_Date</th>\n",
              "      <th>First_NDR_Status</th>\n",
              "      <th>GMV2</th>\n",
              "      <th>Leaf_Category</th>\n",
              "      <th>Manifest_Date</th>\n",
              "      <th>Merchant_City</th>\n",
              "      <th>Merchant_Id</th>\n",
              "      <th>Merchant_Pincode</th>\n",
              "      <th>Merchant_Zone</th>\n",
              "      <th>Meta_Category</th>\n",
              "      <th>Order_Date</th>\n",
              "      <th>Order_Id</th>\n",
              "      <th>Order_Status</th>\n",
              "      <th>Order_Weight</th>\n",
              "      <th>Order_source</th>\n",
              "      <th>Payment_Mode</th>\n",
              "      <th>Potential_RTO_CM</th>\n",
              "      <th>Potential_del</th>\n",
              "      <th>Product_Id</th>\n",
              "      <th>Product_Name</th>\n",
              "      <th>Qty_Sold</th>\n",
              "      <th>RTO_Rev</th>\n",
              "      <th>Reg_date</th>\n",
              "      <th>Response_Received</th>\n",
              "      <th>Second_Attempt_Date</th>\n",
              "      <th>Second_NDR_Status</th>\n",
              "      <th>Ship_to_Attempt</th>\n",
              "      <th>Ship_to_Delivered</th>\n",
              "      <th>Shipment_Date</th>\n",
              "      <th>Shipped_to_Attempt_Ageing</th>\n",
              "      <th>Status_Name</th>\n",
              "      <th>Sub_Category</th>\n",
              "      <th>Third_Attempt_Date</th>\n",
              "      <th>Third_NDR_Status</th>\n",
              "      <th>cb_used</th>\n",
              "      <th>first_order_date</th>\n",
              "      <th>selling_price</th>\n",
              "      <th>subtotal</th>\n",
              "      <th>user_id</th>\n",
              "    </tr>\n",
              "  </thead>\n",
              "  <tbody>\n",
              "    <tr>\n",
              "      <th>0</th>\n",
              "      <td>8500</td>\n",
              "      <td>20.0</td>\n",
              "      <td>322.0</td>\n",
              "      <td>57.82</td>\n",
              "      <td>No NDR Sent</td>\n",
              "      <td>Delhivery-Surface</td>\n",
              "      <td>Shimoga</td>\n",
              "      <td>577225</td>\n",
              "      <td>SOUTHERN</td>\n",
              "      <td>SOUTHERN</td>\n",
              "      <td>9.0</td>\n",
              "      <td>2018-08-11</td>\n",
              "      <td>2018-08-07 18:01:19</td>\n",
              "      <td>Delivered</td>\n",
              "      <td>2018-08-11</td>\n",
              "      <td>0</td>\n",
              "      <td>357.0</td>\n",
              "      <td>T-Shirts</td>\n",
              "      <td>2018-08-02</td>\n",
              "      <td>Delhi</td>\n",
              "      <td>150053.0</td>\n",
              "      <td>110031.0</td>\n",
              "      <td>NORTHERN</td>\n",
              "      <td>Fashion</td>\n",
              "      <td>2018-08-01</td>\n",
              "      <td>153139225.0</td>\n",
              "      <td>A_Delivered</td>\n",
              "      <td>500</td>\n",
              "      <td>M</td>\n",
              "      <td>COD</td>\n",
              "      <td>-38.986576</td>\n",
              "      <td>98.196949</td>\n",
              "      <td>136075732</td>\n",
              "      <td>Stylogue Men'S Navy Round Neck T-Shirt</td>\n",
              "      <td>1.0</td>\n",
              "      <td>0.0</td>\n",
              "      <td>2018-06-30 11:51:44</td>\n",
              "      <td>No Response</td>\n",
              "      <td>0</td>\n",
              "      <td>0</td>\n",
              "      <td>J_09 Days</td>\n",
              "      <td>J_09 Days</td>\n",
              "      <td>2018-08-02</td>\n",
              "      <td>9.0</td>\n",
              "      <td>Complete</td>\n",
              "      <td>Men's Clothing</td>\n",
              "      <td>0</td>\n",
              "      <td>0</td>\n",
              "      <td>35.0</td>\n",
              "      <td>2018-06-30 12:14:27</td>\n",
              "      <td>499.0</td>\n",
              "      <td>299.0</td>\n",
              "      <td>52310747.0</td>\n",
              "    </tr>\n",
              "    <tr>\n",
              "      <th>1</th>\n",
              "      <td>11606</td>\n",
              "      <td>20.0</td>\n",
              "      <td>1329.0</td>\n",
              "      <td>77.41</td>\n",
              "      <td>Customer refused to accept delivery</td>\n",
              "      <td>Gati-SG</td>\n",
              "      <td>Mumbai</td>\n",
              "      <td>421301</td>\n",
              "      <td>WESTERN</td>\n",
              "      <td>WESTERN</td>\n",
              "      <td>0.0</td>\n",
              "      <td>0</td>\n",
              "      <td>2018-08-08 20:42:20</td>\n",
              "      <td>RTO</td>\n",
              "      <td>2018-08-07</td>\n",
              "      <td>Customer Refused To Accept Delivery</td>\n",
              "      <td>1329.0</td>\n",
              "      <td>Bluetooth Speakers</td>\n",
              "      <td>2018-08-02</td>\n",
              "      <td>Delhi</td>\n",
              "      <td>703910.0</td>\n",
              "      <td>110034.0</td>\n",
              "      <td>NORTHERN</td>\n",
              "      <td>Mobile &amp; Laptop Accessories</td>\n",
              "      <td>2018-08-01</td>\n",
              "      <td>153145844.0</td>\n",
              "      <td>B_RTO</td>\n",
              "      <td>1000</td>\n",
              "      <td>M</td>\n",
              "      <td>COD</td>\n",
              "      <td>-70.330576</td>\n",
              "      <td>419.539153</td>\n",
              "      <td>134860469</td>\n",
              "      <td>Sketchfab Bluetooth F Pill Stereo Speaker With...</td>\n",
              "      <td>1.0</td>\n",
              "      <td>23.6</td>\n",
              "      <td>2016-08-30 12:07:50</td>\n",
              "      <td>No Courier Contact, Order_Wanted</td>\n",
              "      <td>0</td>\n",
              "      <td>0</td>\n",
              "      <td>F_05 Days</td>\n",
              "      <td>W_Others</td>\n",
              "      <td>2018-08-02</td>\n",
              "      <td>5.0</td>\n",
              "      <td>RTO Delivered to Merchant</td>\n",
              "      <td>Audio and Headphones</td>\n",
              "      <td>0</td>\n",
              "      <td>0</td>\n",
              "      <td>0.0</td>\n",
              "      <td>2016-10-23 11:32:41</td>\n",
              "      <td>1300.0</td>\n",
              "      <td>1300.0</td>\n",
              "      <td>31650888.0</td>\n",
              "    </tr>\n",
              "    <tr>\n",
              "      <th>2</th>\n",
              "      <td>17657</td>\n",
              "      <td>0.0</td>\n",
              "      <td>450.0</td>\n",
              "      <td>49.56</td>\n",
              "      <td>No NDR Sent</td>\n",
              "      <td>Xpressbees Courier</td>\n",
              "      <td>Chatrapur</td>\n",
              "      <td>760010</td>\n",
              "      <td>EASTERN</td>\n",
              "      <td>EASTERN</td>\n",
              "      <td>7.0</td>\n",
              "      <td>2018-08-09</td>\n",
              "      <td>2018-08-10 15:15:33</td>\n",
              "      <td>Delivered</td>\n",
              "      <td>2018-08-09</td>\n",
              "      <td>0</td>\n",
              "      <td>499.0</td>\n",
              "      <td>Women's Heels</td>\n",
              "      <td>2018-08-02</td>\n",
              "      <td>Delhi</td>\n",
              "      <td>371893.0</td>\n",
              "      <td>110064.0</td>\n",
              "      <td>NORTHERN</td>\n",
              "      <td>Footwear</td>\n",
              "      <td>2018-08-01</td>\n",
              "      <td>153158290.0</td>\n",
              "      <td>A_Delivered</td>\n",
              "      <td>1000</td>\n",
              "      <td>A</td>\n",
              "      <td>Prepaid</td>\n",
              "      <td>-57.770576</td>\n",
              "      <td>97.643390</td>\n",
              "      <td>139142225</td>\n",
              "      <td>Digni Women's Blue heels</td>\n",
              "      <td>1.0</td>\n",
              "      <td>0.0</td>\n",
              "      <td>2017-01-29 09:11:41</td>\n",
              "      <td>No Response</td>\n",
              "      <td>0</td>\n",
              "      <td>0</td>\n",
              "      <td>H_07 Days</td>\n",
              "      <td>H_07 Days</td>\n",
              "      <td>2018-08-02</td>\n",
              "      <td>7.0</td>\n",
              "      <td>Complete</td>\n",
              "      <td>Womens Footwear</td>\n",
              "      <td>0</td>\n",
              "      <td>0</td>\n",
              "      <td>49.0</td>\n",
              "      <td>2017-01-29 21:54:43</td>\n",
              "      <td>499.0</td>\n",
              "      <td>499.0</td>\n",
              "      <td>35700650.0</td>\n",
              "    </tr>\n",
              "    <tr>\n",
              "      <th>3</th>\n",
              "      <td>31390</td>\n",
              "      <td>20.0</td>\n",
              "      <td>201.0</td>\n",
              "      <td>57.82</td>\n",
              "      <td>No NDR Sent</td>\n",
              "      <td>Delhivery-Surface</td>\n",
              "      <td>Shimoga</td>\n",
              "      <td>577225</td>\n",
              "      <td>SOUTHERN</td>\n",
              "      <td>SOUTHERN</td>\n",
              "      <td>8.0</td>\n",
              "      <td>2018-08-11</td>\n",
              "      <td>2018-08-08 13:43:12</td>\n",
              "      <td>Delivered</td>\n",
              "      <td>2018-08-11</td>\n",
              "      <td>0</td>\n",
              "      <td>223.0</td>\n",
              "      <td>Sunglasses</td>\n",
              "      <td>2018-08-03</td>\n",
              "      <td>Delhi</td>\n",
              "      <td>169279.0</td>\n",
              "      <td>110095.0</td>\n",
              "      <td>NORTHERN</td>\n",
              "      <td>Fashion</td>\n",
              "      <td>2018-08-01</td>\n",
              "      <td>153185608.0</td>\n",
              "      <td>A_Delivered</td>\n",
              "      <td>500</td>\n",
              "      <td>M</td>\n",
              "      <td>COD</td>\n",
              "      <td>-38.986576</td>\n",
              "      <td>56.959661</td>\n",
              "      <td>131599729</td>\n",
              "      <td>David Martin Combo of Black  Brown Wayfarer Su...</td>\n",
              "      <td>1.0</td>\n",
              "      <td>0.0</td>\n",
              "      <td>2018-06-30 11:51:44</td>\n",
              "      <td>No Response</td>\n",
              "      <td>0</td>\n",
              "      <td>0</td>\n",
              "      <td>I_08 Days</td>\n",
              "      <td>I_08 Days</td>\n",
              "      <td>2018-08-03</td>\n",
              "      <td>8.0</td>\n",
              "      <td>Complete</td>\n",
              "      <td>Eye Wear</td>\n",
              "      <td>0</td>\n",
              "      <td>0</td>\n",
              "      <td>22.0</td>\n",
              "      <td>2018-06-30 12:14:27</td>\n",
              "      <td>439.0</td>\n",
              "      <td>189.0</td>\n",
              "      <td>52310747.0</td>\n",
              "    </tr>\n",
              "    <tr>\n",
              "      <th>4</th>\n",
              "      <td>45686</td>\n",
              "      <td>32.0</td>\n",
              "      <td>1107.0</td>\n",
              "      <td>177.87</td>\n",
              "      <td>Customer address not locatable</td>\n",
              "      <td>GatiSurface</td>\n",
              "      <td>Sidhi</td>\n",
              "      <td>486889</td>\n",
              "      <td>WESTERN</td>\n",
              "      <td>WESTERN</td>\n",
              "      <td>0.0</td>\n",
              "      <td>0</td>\n",
              "      <td>2018-08-09 19:42:17</td>\n",
              "      <td>RTO</td>\n",
              "      <td>2018-08-13</td>\n",
              "      <td>Address Issue/Wrong Address</td>\n",
              "      <td>1228.0</td>\n",
              "      <td>Painting Tools</td>\n",
              "      <td>2018-08-02</td>\n",
              "      <td>Mumbai</td>\n",
              "      <td>65735.0</td>\n",
              "      <td>400015.0</td>\n",
              "      <td>WESTERN</td>\n",
              "      <td>Home &amp; Kitchen</td>\n",
              "      <td>2018-08-02</td>\n",
              "      <td>153207581.0</td>\n",
              "      <td>B_RTO</td>\n",
              "      <td>5000</td>\n",
              "      <td>A</td>\n",
              "      <td>COD</td>\n",
              "      <td>-211.866576</td>\n",
              "      <td>11.452034</td>\n",
              "      <td>101505861</td>\n",
              "      <td>TRADERS5253 PAINT ZOOM PAINT SPRAYER GUN</td>\n",
              "      <td>1.0</td>\n",
              "      <td>29.5</td>\n",
              "      <td>2016-10-11 04:26:38</td>\n",
              "      <td>No Courier Contact, Order_Wanted</td>\n",
              "      <td>2018-08-13</td>\n",
              "      <td>Address Issue/Wrong Address</td>\n",
              "      <td>L_11 days</td>\n",
              "      <td>W_Others</td>\n",
              "      <td>2018-08-02</td>\n",
              "      <td>11.0</td>\n",
              "      <td>RTO Delivered to Merchant</td>\n",
              "      <td>Tools &amp; Hardware</td>\n",
              "      <td>2018-08-16</td>\n",
              "      <td>Address Issue/Wrong Address</td>\n",
              "      <td>100.0</td>\n",
              "      <td>2017-07-06 03:21:48</td>\n",
              "      <td>3999.0</td>\n",
              "      <td>1178.0</td>\n",
              "      <td>32833570.0</td>\n",
              "    </tr>\n",
              "  </tbody>\n",
              "</table>\n",
              "</div>"
            ],
            "text/plain": [
              "   Unnamed: 0  COD_Cost  ...  subtotal     user_id\n",
              "0        8500      20.0  ...     299.0  52310747.0\n",
              "1       11606      20.0  ...    1300.0  31650888.0\n",
              "2       17657       0.0  ...     499.0  35700650.0\n",
              "3       31390      20.0  ...     189.0  52310747.0\n",
              "4       45686      32.0  ...    1178.0  32833570.0\n",
              "\n",
              "[5 rows x 53 columns]"
            ]
          },
          "metadata": {
            "tags": []
          },
          "execution_count": 7
        }
      ]
    },
    {
      "cell_type": "code",
      "metadata": {
        "id": "jfsrDh4pZScn",
        "colab_type": "code",
        "outputId": "4538ad3a-2650-48e5-ce0d-f637da3c6fa4",
        "colab": {
          "base_uri": "https://localhost:8080/",
          "height": 272
        }
      },
      "source": [
        "df_train.columns"
      ],
      "execution_count": 8,
      "outputs": [
        {
          "output_type": "execute_result",
          "data": {
            "text/plain": [
              "Index(['Unnamed: 0', 'COD_Cost', 'Collectable_Amount', 'Courier_Cost',\n",
              "       'Courier_NDR_Status', 'Courier_Name', 'Customer_City',\n",
              "       'Customer_Pincode', 'Customer_Zone', 'Customer_Zone.1',\n",
              "       'Delivery_Ageing', 'Delivery_Date', 'EDD', 'Final_Status',\n",
              "       'First_Attempt_Date', 'First_NDR_Status', 'GMV2', 'Leaf_Category',\n",
              "       'Manifest_Date', 'Merchant_City', 'Merchant_Id', 'Merchant_Pincode',\n",
              "       'Merchant_Zone', 'Meta_Category', 'Order_Date', 'Order_Id',\n",
              "       'Order_Status', 'Order_Weight', 'Order_source', 'Payment_Mode',\n",
              "       'Potential_RTO_CM', 'Potential_del', 'Product_Id', 'Product_Name',\n",
              "       'Qty_Sold', 'RTO_Rev', 'Reg_date', 'Response_Received',\n",
              "       'Second_Attempt_Date', 'Second_NDR_Status', 'Ship_to_Attempt',\n",
              "       'Ship_to_Delivered', 'Shipment_Date', 'Shipped_to_Attempt_Ageing',\n",
              "       'Status_Name', 'Sub_Category', 'Third_Attempt_Date', 'Third_NDR_Status',\n",
              "       'cb_used', 'first_order_date', 'selling_price', 'subtotal', 'user_id'],\n",
              "      dtype='object')"
            ]
          },
          "metadata": {
            "tags": []
          },
          "execution_count": 8
        }
      ]
    },
    {
      "cell_type": "code",
      "metadata": {
        "id": "A21rX4oYZdaP",
        "colab_type": "code",
        "outputId": "deb86e19-4391-47df-dc06-6d8a3719f80f",
        "colab": {
          "base_uri": "https://localhost:8080/",
          "height": 34
        }
      },
      "source": [
        "df_train['user_id'].nunique()"
      ],
      "execution_count": 9,
      "outputs": [
        {
          "output_type": "execute_result",
          "data": {
            "text/plain": [
              "102"
            ]
          },
          "metadata": {
            "tags": []
          },
          "execution_count": 9
        }
      ]
    },
    {
      "cell_type": "code",
      "metadata": {
        "id": "CAkxScdlZyI4",
        "colab_type": "code",
        "outputId": "38aa5058-c7bf-4119-ff3c-48078a1dba77",
        "colab": {
          "base_uri": "https://localhost:8080/",
          "height": 306
        }
      },
      "source": [
        "df_train['user_id'].unique()"
      ],
      "execution_count": 10,
      "outputs": [
        {
          "output_type": "execute_result",
          "data": {
            "text/plain": [
              "array([52310747., 31650888., 35700650., 32833570., 26164816., 50270678.,\n",
              "       41625404., 53457026., 26730662., 48661266., 31517972., 38472860.,\n",
              "       32771662., 53863677., 53898078., 53898168., 52658602., 36100311.,\n",
              "       13404395., 54225893., 52785268., 41787161., 46887424., 34550149.,\n",
              "       54334448., 54459509., 49628543., 22035625., 54771050., 54804483.,\n",
              "       54855623., 54869207., 48273108., 23021491., 39907970., 55060366.,\n",
              "       42935303., 37868692., 49865968., 55220168., 39300013., 55323878.,\n",
              "       55341372., 54384710., 55298538., 55598973., 47731780., 42047922.,\n",
              "       55697550., 55753933., 55759968., 43022489., 55529770., 34188700.,\n",
              "       50359815., 55211980., 55957332., 39000273., 32956808., 56063661.,\n",
              "       56104177., 56116624., 56322865., 56332236., 56339119., 49881909.,\n",
              "       36533857., 55390315., 48206736., 56507279., 56546199., 50703629.,\n",
              "       56558140., 54069203., 56603616., 47946327., 56690906., 51884813.,\n",
              "       56721682., 55993264., 56729943., 56758748., 56762448., 56763254.,\n",
              "       56779768., 56593810., 56849756., 56719441., 41909163., 56909686.,\n",
              "       56926047., 29449913., 56924638., 56741571., 54649591., 56941492.,\n",
              "       56950455., 56968267., 29764995., 57003385., 57020899., 26002879.])"
            ]
          },
          "metadata": {
            "tags": []
          },
          "execution_count": 10
        }
      ]
    },
    {
      "cell_type": "code",
      "metadata": {
        "id": "UX85VgAmZEng",
        "colab_type": "code",
        "colab": {}
      },
      "source": [
        "df_train_user_wise_count = df_train['user_id'].value_counts().to_dict()"
      ],
      "execution_count": 0,
      "outputs": []
    },
    {
      "cell_type": "code",
      "metadata": {
        "id": "FTGzKhV4aTVS",
        "colab_type": "code",
        "outputId": "a0313c17-aa57-404b-fb62-7c5c1abc6102",
        "colab": {
          "base_uri": "https://localhost:8080/",
          "height": 1751
        }
      },
      "source": [
        "df_train_user_wise_count"
      ],
      "execution_count": 0,
      "outputs": [
        {
          "output_type": "execute_result",
          "data": {
            "text/plain": [
              "{13404395.0: 6,\n",
              " 22035625.0: 61,\n",
              " 23021491.0: 3,\n",
              " 26002879.0: 1,\n",
              " 26164816.0: 118,\n",
              " 26730662.0: 38,\n",
              " 29449913.0: 2,\n",
              " 29764995.0: 2,\n",
              " 31517972.0: 87,\n",
              " 31650888.0: 267,\n",
              " 32771662.0: 1,\n",
              " 32833570.0: 136,\n",
              " 32956808.0: 11,\n",
              " 34188700.0: 6,\n",
              " 34550149.0: 16,\n",
              " 35700650.0: 28,\n",
              " 36100311.0: 4,\n",
              " 36533857.0: 60,\n",
              " 37868692.0: 21,\n",
              " 38472860.0: 1,\n",
              " 39000273.0: 1,\n",
              " 39300013.0: 46,\n",
              " 39907970.0: 1,\n",
              " 41625404.0: 49,\n",
              " 41787161.0: 107,\n",
              " 41909163.0: 9,\n",
              " 42047922.0: 12,\n",
              " 42935303.0: 1,\n",
              " 43022489.0: 14,\n",
              " 46887424.0: 3,\n",
              " 47731780.0: 1,\n",
              " 47946327.0: 62,\n",
              " 48206736.0: 1,\n",
              " 48273108.0: 44,\n",
              " 48661266.0: 23,\n",
              " 49628543.0: 12,\n",
              " 49865968.0: 37,\n",
              " 49881909.0: 10,\n",
              " 50270678.0: 11,\n",
              " 50359815.0: 6,\n",
              " 50703629.0: 6,\n",
              " 51884813.0: 1,\n",
              " 52310747.0: 39,\n",
              " 52658602.0: 3,\n",
              " 52785268.0: 19,\n",
              " 53457026.0: 1,\n",
              " 53863677.0: 1,\n",
              " 53898078.0: 34,\n",
              " 53898168.0: 53,\n",
              " 54069203.0: 3,\n",
              " 54225893.0: 5,\n",
              " 54334448.0: 1,\n",
              " 54384710.0: 3,\n",
              " 54459509.0: 16,\n",
              " 54649591.0: 2,\n",
              " 54771050.0: 35,\n",
              " 54804483.0: 7,\n",
              " 54855623.0: 5,\n",
              " 54869207.0: 28,\n",
              " 55060366.0: 6,\n",
              " 55211980.0: 7,\n",
              " 55220168.0: 73,\n",
              " 55298538.0: 3,\n",
              " 55323878.0: 8,\n",
              " 55341372.0: 8,\n",
              " 55390315.0: 34,\n",
              " 55529770.0: 69,\n",
              " 55598973.0: 7,\n",
              " 55697550.0: 7,\n",
              " 55753933.0: 7,\n",
              " 55759968.0: 1,\n",
              " 55957332.0: 1,\n",
              " 55993264.0: 1,\n",
              " 56063661.0: 3,\n",
              " 56104177.0: 1,\n",
              " 56116624.0: 6,\n",
              " 56322865.0: 3,\n",
              " 56332236.0: 5,\n",
              " 56339119.0: 2,\n",
              " 56507279.0: 9,\n",
              " 56546199.0: 12,\n",
              " 56558140.0: 2,\n",
              " 56593810.0: 9,\n",
              " 56603616.0: 11,\n",
              " 56690906.0: 25,\n",
              " 56719441.0: 3,\n",
              " 56721682.0: 3,\n",
              " 56729943.0: 3,\n",
              " 56741571.0: 3,\n",
              " 56758748.0: 1,\n",
              " 56762448.0: 3,\n",
              " 56763254.0: 3,\n",
              " 56779768.0: 15,\n",
              " 56849756.0: 2,\n",
              " 56909686.0: 3,\n",
              " 56924638.0: 2,\n",
              " 56926047.0: 12,\n",
              " 56941492.0: 1,\n",
              " 56950455.0: 4,\n",
              " 56968267.0: 3,\n",
              " 57003385.0: 3,\n",
              " 57020899.0: 3}"
            ]
          },
          "metadata": {
            "tags": []
          },
          "execution_count": 16
        }
      ]
    },
    {
      "cell_type": "code",
      "metadata": {
        "id": "sTMiA01obU2v",
        "colab_type": "code",
        "outputId": "73b7d802-3867-4cec-9b5e-af7afff420e3",
        "colab": {
          "base_uri": "https://localhost:8080/",
          "height": 34
        }
      },
      "source": [
        "df_train.shape"
      ],
      "execution_count": 12,
      "outputs": [
        {
          "output_type": "execute_result",
          "data": {
            "text/plain": [
              "(1968, 53)"
            ]
          },
          "metadata": {
            "tags": []
          },
          "execution_count": 12
        }
      ]
    },
    {
      "cell_type": "code",
      "metadata": {
        "id": "zr8kQRaFe8zn",
        "colab_type": "code",
        "colab": {}
      },
      "source": [
        "from catboost import CatBoostClassifier"
      ],
      "execution_count": 0,
      "outputs": []
    },
    {
      "cell_type": "code",
      "metadata": {
        "id": "A5iKkuBmVO8r",
        "colab_type": "code",
        "colab": {}
      },
      "source": [
        "from sklearn.model_selection import train_test_split"
      ],
      "execution_count": 0,
      "outputs": []
    },
    {
      "cell_type": "code",
      "metadata": {
        "id": "sTm2eyMsV-va",
        "colab_type": "code",
        "colab": {}
      },
      "source": [
        "# Prepare Categorical Variables\n",
        "def column_index(df, query_cols):\n",
        "    cols = df.columns.values\n",
        "    sidx = np.argsort(cols)\n",
        "    return sidx[np.searchsorted(cols,query_cols,sorter=sidx)]"
      ],
      "execution_count": 0,
      "outputs": []
    },
    {
      "cell_type": "code",
      "metadata": {
        "id": "9TLHSPRPXLWF",
        "colab_type": "code",
        "colab": {}
      },
      "source": [
        "def train_and_get_model_for_user_data(df):\n",
        "  \n",
        "  used = ['Product_Id','Merchant_Id','Meta_Category', 'Sub_Category', 'Leaf_Category','Merchant_City',\n",
        "         'Merchant_Pincode','Order_source',\n",
        "         'Merchant_Zone','selling_price','subtotal',\n",
        "         'cb_used','COD_Cost','Courier_Cost','Collectable_Amount','Qty_Sold','Order_Weight','Potential_RTO_CM',\n",
        "         'Potential_del','GMV2','Final_Status']\n",
        "  category_cols = ['Product_Id', 'Merchant_Id', 'Meta_Category', 'Sub_Category',\n",
        "       'Leaf_Category', 'Merchant_City', 'Merchant_Pincode', 'Order_source', 'Merchant_Zone']\n",
        "  \n",
        "  df_filtered = df.filter(used)\n",
        "  \n",
        "  categorical_features_pos = column_index(df_filtered,category_cols)\n",
        "  y_train = df_filtered[\"Final_Status\"].apply(lambda x: 1 if x == 'RTO' else 0)\n",
        "  del df_filtered[\"Final_Status\"] # Labels column, already saved to labels variable\n",
        "  X_train = df_filtered\n",
        "  X_train, X_validation, y_train, y_validation = train_test_split(X_train, y_train, train_size=0.8, random_state=1234)\n",
        "  model = CatBoostClassifier(iterations=2,\n",
        "                           learning_rate=0.015,\n",
        "                           depth=10,one_hot_max_size=50)\n",
        "  model.fit(X_train,y_train, categorical_features_pos)\n",
        "  return model"
      ],
      "execution_count": 0,
      "outputs": []
    },
    {
      "cell_type": "code",
      "metadata": {
        "id": "hEMIKjtCc-dO",
        "colab_type": "code",
        "colab": {}
      },
      "source": [
        "def train_evaluate(train_file_dir,model_dir):\n",
        "  raw_df = pd.read_csv(train_file_dir)\n",
        "  user_list = raw_df['user_id'].unique()  \n",
        "  for userid in user_list:\n",
        "    df_current_user = raw_df[raw_df['user_id']==userid]\n",
        "    if df_current_user.shape[0] > 20:\n",
        "      try:\n",
        "        print(df_current_user[\"user_id\"].nunique())\n",
        "        print(userid)\n",
        "        model_current_user = train_and_get_model_for_user_data(df_current_user)\n",
        "        path = \"/content/gdrive/My Drive/user_filtered_model_comparison\"+\"/catboost_user_model/\"+ str(userid)\n",
        "        print(path)\n",
        "        model_current_user.save_model(path)\n",
        "      except:\n",
        "        print(str(userid)+\"not processed\")"
      ],
      "execution_count": 0,
      "outputs": []
    },
    {
      "cell_type": "code",
      "metadata": {
        "id": "qSX8K31vLwAi",
        "colab_type": "code",
        "outputId": "c05f6f62-4f57-4731-a9bc-6f135f8218b5",
        "colab": {
          "base_uri": "https://localhost:8080/",
          "height": 2128
        }
      },
      "source": [
        "train_evaluate(\"/content/gdrive/My Drive/user_filtered_model_comparison/user_filtered_data.csv\",\"\")"
      ],
      "execution_count": 32,
      "outputs": [
        {
          "output_type": "stream",
          "text": [
            "1\n",
            "52310747.0\n",
            "0:\tlearn: 0.6808671\ttotal: 10.1ms\tremaining: 10.1ms\n",
            "1:\tlearn: 0.6740087\ttotal: 12.8ms\tremaining: 0us\n",
            "/content/gdrive/My Drive/user_filtered_model_comparison/catboost_user_model/52310747.0\n"
          ],
          "name": "stdout"
        },
        {
          "output_type": "stream",
          "text": [
            "/usr/local/lib/python3.6/dist-packages/sklearn/model_selection/_split.py:2179: FutureWarning: From version 0.21, test_size will always complement train_size unless both are specified.\n",
            "  FutureWarning)\n"
          ],
          "name": "stderr"
        },
        {
          "output_type": "stream",
          "text": [
            "1\n",
            "31650888.0\n",
            "0:\tlearn: 0.6922270\ttotal: 3.59ms\tremaining: 3.59ms\n",
            "1:\tlearn: 0.6907665\ttotal: 22ms\tremaining: 0us\n",
            "/content/gdrive/My Drive/user_filtered_model_comparison/catboost_user_model/31650888.0\n",
            "1\n",
            "35700650.0\n",
            "0:\tlearn: 0.6680585\ttotal: 1.57ms\tremaining: 1.57ms\n",
            "1:\tlearn: 0.6523327\ttotal: 3.75ms\tremaining: 0us\n",
            "/content/gdrive/My Drive/user_filtered_model_comparison/catboost_user_model/35700650.0\n",
            "1\n",
            "32833570.0\n",
            "0:\tlearn: 0.6868990\ttotal: 44.5ms\tremaining: 44.5ms\n",
            "1:\tlearn: 0.6825403\ttotal: 83ms\tremaining: 0us\n",
            "/content/gdrive/My Drive/user_filtered_model_comparison/catboost_user_model/32833570.0\n",
            "1\n",
            "26164816.0\n",
            "0:\tlearn: 0.6740662\ttotal: 29.3ms\tremaining: 29.3ms\n",
            "1:\tlearn: 0.6536389\ttotal: 34.7ms\tremaining: 0us\n",
            "/content/gdrive/My Drive/user_filtered_model_comparison/catboost_user_model/26164816.0\n",
            "1\n",
            "41625404.0\n",
            "0:\tlearn: 0.6857547\ttotal: 10.6ms\tremaining: 10.6ms\n",
            "1:\tlearn: 0.6796284\ttotal: 14.1ms\tremaining: 0us\n",
            "/content/gdrive/My Drive/user_filtered_model_comparison/catboost_user_model/41625404.0\n",
            "1\n",
            "26730662.0\n",
            "0:\tlearn: 0.6878443\ttotal: 1.63ms\tremaining: 1.63ms\n",
            "1:\tlearn: 0.6809518\ttotal: 4.08ms\tremaining: 0us\n",
            "/content/gdrive/My Drive/user_filtered_model_comparison/catboost_user_model/26730662.0\n",
            "1\n",
            "48661266.0\n",
            "0:\tlearn: 0.6819428\ttotal: 5.26ms\tremaining: 5.26ms\n",
            "1:\tlearn: 0.6695512\ttotal: 7.8ms\tremaining: 0us\n",
            "/content/gdrive/My Drive/user_filtered_model_comparison/catboost_user_model/48661266.0\n",
            "1\n",
            "31517972.0\n",
            "31517972.0not processed\n",
            "1\n",
            "53898078.0\n",
            "0:\tlearn: 0.6799528\ttotal: 13ms\tremaining: 13ms\n",
            "1:\tlearn: 0.6615284\ttotal: 15.2ms\tremaining: 0us\n",
            "/content/gdrive/My Drive/user_filtered_model_comparison/catboost_user_model/53898078.0\n",
            "1\n",
            "53898168.0\n",
            "53898168.0not processed\n",
            "1\n",
            "41787161.0\n",
            "0:\tlearn: 0.6844651\ttotal: 44.8ms\tremaining: 44.8ms\n",
            "1:\tlearn: 0.6761078\ttotal: 88.7ms\tremaining: 0us\n",
            "/content/gdrive/My Drive/user_filtered_model_comparison/catboost_user_model/41787161.0\n",
            "1\n",
            "22035625.0\n",
            "0:\tlearn: 0.6852871\ttotal: 11.8ms\tremaining: 11.8ms\n",
            "1:\tlearn: 0.6768305\ttotal: 18.5ms\tremaining: 0us\n",
            "/content/gdrive/My Drive/user_filtered_model_comparison/catboost_user_model/22035625.0\n",
            "1\n",
            "54771050.0\n",
            "0:\tlearn: 0.6788399\ttotal: 3.03ms\tremaining: 3.03ms\n",
            "1:\tlearn: 0.6686597\ttotal: 5.31ms\tremaining: 0us\n",
            "/content/gdrive/My Drive/user_filtered_model_comparison/catboost_user_model/54771050.0\n",
            "1\n",
            "54869207.0\n",
            "0:\tlearn: 0.6831972\ttotal: 2.22ms\tremaining: 2.22ms\n",
            "1:\tlearn: 0.6784817\ttotal: 5.01ms\tremaining: 0us\n",
            "/content/gdrive/My Drive/user_filtered_model_comparison/catboost_user_model/54869207.0\n",
            "1\n",
            "48273108.0\n",
            "0:\tlearn: 0.6825826\ttotal: 25.9ms\tremaining: 25.9ms\n",
            "1:\tlearn: 0.6697399\ttotal: 29.2ms\tremaining: 0us\n",
            "/content/gdrive/My Drive/user_filtered_model_comparison/catboost_user_model/48273108.0\n",
            "1\n",
            "37868692.0\n",
            "0:\tlearn: 0.6836439\ttotal: 7.34ms\tremaining: 7.34ms\n",
            "1:\tlearn: 0.6749899\ttotal: 8.53ms\tremaining: 0us\n",
            "/content/gdrive/My Drive/user_filtered_model_comparison/catboost_user_model/37868692.0\n",
            "1\n",
            "49865968.0\n",
            "0:\tlearn: 0.6836665\ttotal: 2.99ms\tremaining: 2.99ms\n",
            "1:\tlearn: 0.6730238\ttotal: 9.94ms\tremaining: 0us\n",
            "/content/gdrive/My Drive/user_filtered_model_comparison/catboost_user_model/49865968.0\n",
            "1\n",
            "55220168.0\n",
            "0:\tlearn: 0.6765398\ttotal: 26.1ms\tremaining: 26.1ms\n",
            "1:\tlearn: 0.6573731\ttotal: 30.5ms\tremaining: 0us\n",
            "/content/gdrive/My Drive/user_filtered_model_comparison/catboost_user_model/55220168.0\n",
            "1\n",
            "39300013.0\n",
            "0:\tlearn: 0.6749586\ttotal: 4.53ms\tremaining: 4.53ms\n",
            "1:\tlearn: 0.6582332\ttotal: 9.06ms\tremaining: 0us\n",
            "/content/gdrive/My Drive/user_filtered_model_comparison/catboost_user_model/39300013.0\n",
            "1\n",
            "55529770.0\n",
            "0:\tlearn: 0.6806452\ttotal: 27ms\tremaining: 27ms\n",
            "1:\tlearn: 0.6686339\ttotal: 31.6ms\tremaining: 0us\n",
            "/content/gdrive/My Drive/user_filtered_model_comparison/catboost_user_model/55529770.0\n",
            "1\n",
            "36533857.0\n",
            "0:\tlearn: 0.6859931\ttotal: 17.1ms\tremaining: 17.1ms\n",
            "1:\tlearn: 0.6718268\ttotal: 43.5ms\tremaining: 0us\n",
            "/content/gdrive/My Drive/user_filtered_model_comparison/catboost_user_model/36533857.0\n",
            "1\n",
            "55390315.0\n",
            "0:\tlearn: 0.6718599\ttotal: 2.3ms\tremaining: 2.3ms\n",
            "1:\tlearn: 0.6624618\ttotal: 13.8ms\tremaining: 0us\n",
            "/content/gdrive/My Drive/user_filtered_model_comparison/catboost_user_model/55390315.0\n",
            "1\n",
            "47946327.0\n",
            "0:\tlearn: 0.6789257\ttotal: 3.94ms\tremaining: 3.94ms\n",
            "1:\tlearn: 0.6643934\ttotal: 32.7ms\tremaining: 0us\n",
            "/content/gdrive/My Drive/user_filtered_model_comparison/catboost_user_model/47946327.0\n",
            "1\n",
            "56690906.0\n",
            "0:\tlearn: 0.6745817\ttotal: 2ms\tremaining: 2ms\n",
            "1:\tlearn: 0.6595491\ttotal: 5.96ms\tremaining: 0us\n",
            "/content/gdrive/My Drive/user_filtered_model_comparison/catboost_user_model/56690906.0\n"
          ],
          "name": "stdout"
        }
      ]
    },
    {
      "cell_type": "code",
      "metadata": {
        "id": "FmAm7aiVXI2a",
        "colab_type": "code",
        "colab": {}
      },
      "source": [
        ""
      ],
      "execution_count": 0,
      "outputs": []
    },
    {
      "cell_type": "code",
      "metadata": {
        "id": "ohG_IXsPHszF",
        "colab_type": "code",
        "colab": {}
      },
      "source": [
        ""
      ],
      "execution_count": 0,
      "outputs": []
    }
  ]
}